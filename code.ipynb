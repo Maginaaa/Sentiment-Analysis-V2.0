{
 "cells": [
  {
   "cell_type": "markdown",
   "metadata": {},
   "source": [
    "## 情感分析项目 "
   ]
  },
  {
   "cell_type": "markdown",
   "metadata": {},
   "source": [
    "本项目的目标是基于用户提供的评论，通过算法自动去判断其评论是正面的还是负面的情感。比如给定一个用户的评论：\n",
    "- 评论1： “我特别喜欢这个电器，我已经用了3个月，一点问题都没有！”\n",
    "- 评论2： “我从这家淘宝店卖的东西不到一周就开始坏掉了，强烈建议不要买，真实浪费钱”\n",
    "\n",
    "对于这两个评论，第一个明显是正面的，第二个是负面的。 我们希望搭建一个AI算法能够自动帮我们识别出评论是正面还是负面。\n",
    "\n",
    "情感分析的应用场景非常丰富，也是NLP技术在不同场景中落地的典范。比如对于一个证券领域，作为股民，其实比较关注舆论的变化，这个时候如果能有一个AI算法自动给网络上的舆论做正负面判断，然后把所有相关的结论再整合，这样我们可以根据这些大众的舆论，辅助做买卖的决策。 另外，在电商领域评论无处不在，而且评论已经成为影响用户购买决策的非常重要的因素，所以如果AI系统能够自动分析其情感，则后续可以做很多有意思的应用。 "
   ]
  },
  {
   "cell_type": "markdown",
   "metadata": {},
   "source": [
    "情感分析是文本处理领域经典的问题。整个系统一般会包括几个模块：\n",
    "- 数据的抓取： 通过爬虫的技术去网络抓取相关文本数据\n",
    "- 数据的清洗/预处理：在本文中一般需要去掉无用的信息，比如各种标签（HTML标签），标点符号，停用词等等\n",
    "- 把文本信息转换成向量： 这也成为特征工程，文本本身是不能作为模型的输入，只有数字（比如向量）才能成为模型的输入。所以进入模型之前，任何的信号都需要转换成模型可识别的数字信号（数字，向量，矩阵，张量...)\n",
    "- 选择合适的模型以及合适的评估方法。 对于情感分析来说，这是二分类问题（或者三分类：正面，负面，中性），所以需要采用分类算法比如逻辑回归，朴素贝叶斯，神经网络，SVM等等。另外，我们需要选择合适的评估方法，比如对于一个应用，我们是关注准确率呢，还是关注召回率呢？ "
   ]
  },
  {
   "cell_type": "markdown",
   "metadata": {},
   "source": [
    "在本次项目中，我们已经给定了训练数据和测试数据，它们分别是 train.positive.txt, train.negative.txt， test_combined.txt. 请注意训练数据和测试数据的格式不一样，详情请见文件内容。 整个项目你需要完成以下步骤：\n",
    "\n",
    "数据的读取以及清洗： 从给定的.txt中读取内容，并做一些数据清洗，这里需要做几个工作： （1） 文本的读取，需要把字符串内容读进来。 （2）去掉无用的字符比如标点符号，多余的空格，换行符等 （3） 分词\n",
    "把文本转换成TF-IDF向量： 这部分直接可以利用sklearn提供的TfidfVectorizer类来做。\n",
    "利用逻辑回归模型来做分类，并通过交叉验证选择最合适的超参数\n",
    "利用支持向量机做分类，并通过交叉验证选择神经网络的合适的参数"
   ]
  },
  {
   "cell_type": "markdown",
   "metadata": {},
   "source": [
    "### File Reading: 文本读取"
   ]
  },
  {
   "cell_type": "code",
   "execution_count": 105,
   "metadata": {
    "collapsed": true
   },
   "outputs": [],
   "source": [
    "import re\n",
    "\n",
    "def read_train_file(file_path):\n",
    "    comments = []  # 用来存储评论\n",
    "    labels = []   # 存储标签\n",
    "    with open(file_path) as file:\n",
    "        # TODO 提取每一个评论，然后利用process_line函数来做处理，并添加到comments。\n",
    "        text = file.read().replace(' ','').replace('\\n','')\n",
    "        reg = '<reviewid=\"\\d{1,4}\">(.*?)</review>'\n",
    "        result = re.findall(reg,text)\n",
    "        for r in result:\n",
    "            comments.append(r)\n",
    "            if file_path == 'data/train.positive.txt':\n",
    "                labels.append('1')\n",
    "            else:\n",
    "                labels.append('0')\n",
    "    return comments, labels\n",
    "\n",
    "def read_test_file(file_path):\n",
    "    comments = []  # 用来存储评论\n",
    "    labels = []   # 存储标签\n",
    "    with open(file_path) as file:\n",
    "        # TODO 提取每一个评论，然后利用process_line函数来做处理，并添加到comments。\n",
    "        text = file.read().replace(' ','').replace('\\n','')\n",
    "        reg = '<reviewid=\"\\d{1,4}\".*?</review>'\n",
    "        result = re.findall(reg,text)\n",
    "        for r in result:\n",
    "            label_reg = '<reviewid=\"\\d{1,4}\"label=\"(\\d)\">'\n",
    "            com_reg = '>(.*?)</review>'\n",
    "            label = re.findall(label_reg,r)[0]\n",
    "            comment = re.findall(com_reg,r)[0]\n",
    "            labels.append(label)\n",
    "            comments.append(comment)\n",
    "    return comments, labels\n",
    "    \n",
    "        \n",
    "def process_file():\n",
    "    \"\"\"\n",
    "    读取训练数据和测试数据，并对它们做一些预处理\n",
    "    \"\"\"    \n",
    "    train_pos_file = \"data/train.positive.txt\"\n",
    "    train_neg_file = \"data/train.negative.txt\"\n",
    "    test_comb_file = \"data/test.combined.txt\"\n",
    "    \n",
    "    # TODO: 读取文件部分，把具体的内容写入到变量里面\n",
    "    train_pos_comments, train_pos_labels = read_train_file(train_pos_file)\n",
    "    train_neg_comments, train_neg_labels = read_train_file(train_neg_file)\n",
    "    test_comments, test_labels = read_test_file(test_comb_file)\n",
    "    return train_pos_comments, train_pos_labels,train_neg_comments, train_neg_labels,test_comments, test_labels\n",
    "    \n",
    "train_pos_comments, train_pos_labels,train_neg_comments, train_neg_labels,test_comments, test_labels = process_file()"
   ]
  },
  {
   "cell_type": "markdown",
   "metadata": {},
   "source": [
    "### Explorary Analysis: 做一些简单的可视化分析"
   ]
  },
  {
   "cell_type": "code",
   "execution_count": 106,
   "metadata": {},
   "outputs": [
    {
     "name": "stdout",
     "output_type": "stream",
     "text": [
      "8065 2500\n"
     ]
    }
   ],
   "source": [
    "train_comments = train_pos_comments + train_neg_comments\n",
    "train_labels = train_pos_labels + train_neg_labels\n",
    "\n",
    "# 训练数据和测试数据大小\n",
    "print (len(train_comments), len(test_comments))"
   ]
  },
  {
   "cell_type": "code",
   "execution_count": 107,
   "metadata": {},
   "outputs": [
    {
     "name": "stderr",
     "output_type": "stream",
     "text": [
      "Building prefix dict from the default dictionary ...\n",
      "Dumping model to file cache /var/folders/1y/y3wkm_bd157fxlr0npb5zv9r0000gn/T/jieba.cache\n",
      "Loading model cost 1.777 seconds.\n",
      "Prefix dict has been built succesfully.\n"
     ]
    },
    {
     "data": {
      "text/plain": [
       "<matplotlib.axes._subplots.AxesSubplot at 0x1145a96d8>"
      ]
     },
     "execution_count": 107,
     "metadata": {},
     "output_type": "execute_result"
    },
    {
     "data": {
      "image/png": "[encoded data removed]",
      "text/plain": [
       "<matplotlib.figure.Figure at 0x1146fdf60>"
      ]
     },
     "metadata": {},
     "output_type": "display_data"
    }
   ],
   "source": [
    "import jieba\n",
    "import seaborn as sns\n",
    "%matplotlib inline\n",
    "# TODO: 对于训练数据中的正负样本，分别画出一个histogram， histogram的x抽是每一个样本中字符串的长度，y轴是拥有这个长度的样本的百分比。\n",
    "#       并说出样本长度是否对情感有相关性 (需要先用到结巴分词)\n",
    "#       参考：https://en.wikipedia.org/wiki/Histogram\n",
    "def count_sentence(sentences):\n",
    "    len_list = []\n",
    "    for s in sentences:\n",
    "        sentence = []\n",
    "        for i in jieba.cut(s):\n",
    "            sentence.append(i)\n",
    "        len_list.append(len(sentence))\n",
    "    return len_list\n",
    "\n",
    "\n",
    "sns.distplot(count_sentence(train_pos_comments))   # train_pos_comments样本中各长度样本所占百分比\n",
    "sns.distplot(count_sentence(train_neg_comments))   # train_neg_comments样本中各长度样本所占百分比\n",
    "\n",
    "# 右下图中可以观察到，正负样本的长度所占百分比的趋势基本接近，说明样本长度与情感没有相关性"
   ]
  },
  {
   "cell_type": "code",
   "execution_count": 109,
   "metadata": {},
   "outputs": [
    {
     "name": "stdout",
     "output_type": "stream",
     "text": [
      "['，', '的', '。', '了', '是', '！', '很', ',', '我', '也', '在', '有', '~', '都', '好', '.', '不错', '就', '买', '喜欢']\n",
      "['，', '的', '。', '了', '！', '是', '我', ',', '不', '买', '就', '也', '都', '很', '有', '在', '？', '没有', '!', '.']\n"
     ]
    }
   ],
   "source": [
    "import collections\n",
    "\n",
    "# TODO： 分别列出训练数据中正负样本里的top 20单词（可以做适当的stop words removal）。 \n",
    "def get_top20_words(comments):\n",
    "    word_library = []   # 储存所有词\n",
    "    for comment in comments:\n",
    "        for i in jieba.cut(comment):\n",
    "            word_library.append(i)\n",
    "    word_dic = collections.Counter(word_library).most_common(20)\n",
    "    top20_list = [i[0] for i in word_dic]\n",
    "    return top20_list\n",
    "\n",
    "print(get_top20_words(train_pos_comments))\n",
    "print(get_top20_words(train_neg_comments))    "
   ]
  },
  {
   "cell_type": "code",
   "execution_count": 110,
   "metadata": {
    "collapsed": true
   },
   "outputs": [],
   "source": [
    "# 根据正负样本里的top 20单词，手动生成停用词库\n",
    "stop_words = ['的','了','是','很','我','也','在','买','有','都','就']"
   ]
  },
  {
   "cell_type": "markdown",
   "metadata": {},
   "source": [
    "### Text Cleaning: 文本处理部分"
   ]
  },
  {
   "cell_type": "code",
   "execution_count": 111,
   "metadata": {
    "collapsed": true
   },
   "outputs": [],
   "source": [
    "import string\n",
    "# TODO：对于train_comments, test_comments进行字符串的处理，几个考虑的点：\n",
    "#   1. 停用词过滤\n",
    "#   2. 去掉特殊符号\n",
    "#   3. 去掉数字（比如价格..)\n",
    "#   4. ...\n",
    "#   需要注意的点是，由于评论数据本身很短，如果去掉的太多，很可能字符串长度变成0\n",
    "#   预处理部部分，可以自行选择合适的方案，只要注释就可以。\n",
    "def text_preprocessing(comments):\n",
    "    comments_new = []\n",
    "    for comment in comments:\n",
    "        sentence = ''\n",
    "        for word in list(jieba.cut(comment)):\n",
    "            # 去除停用词、标点符号、数字\n",
    "            if word not in set(stop_words) and word.isalnum() and not word.isdigit():\n",
    "                sentence += word + ' '\n",
    "        comments_new.append(sentence)\n",
    "    return comments_new\n",
    "    \n",
    "train_comments_new = text_preprocessing(train_comments)\n",
    "test_comments_new = text_preprocessing(test_comments)\n"
   ]
  },
  {
   "cell_type": "markdown",
   "metadata": {},
   "source": [
    "### Feature Extraction : 从文本中提取特征"
   ]
  },
  {
   "cell_type": "code",
   "execution_count": 112,
   "metadata": {},
   "outputs": [
    {
     "name": "stdout",
     "output_type": "stream",
     "text": [
      "(8065, 43903) (2500, 43903) (8065,) (2500,)\n"
     ]
    }
   ],
   "source": [
    "from sklearn.feature_extraction.text import TfidfVectorizer\n",
    "import numpy as np\n",
    "# TODO: 利用tf-idf从文本中提取特征,写到数组里面. \n",
    "#       参考：https://scikit-learn.org/stable/modules/generated/sklearn.feature_extraction.text.TfidfVectorizer.html\n",
    "tfid_vec = TfidfVectorizer()\n",
    "X_train = tfid_vec.fit_transform(train_comments)\n",
    "y_train = np.array(train_labels)\n",
    "X_test = tfid_vec.transform(test_comments)\n",
    "y_test = np.array(test_labels)\n",
    "\n",
    "print (np.shape(X_train), np.shape(X_test), np.shape(y_train), np.shape(y_test))"
   ]
  },
  {
   "cell_type": "markdown",
   "metadata": {},
   "source": [
    "### Modeling: 训练模型以及选择合适的超参数"
   ]
  },
  {
   "cell_type": "code",
   "execution_count": 9,
   "metadata": {},
   "outputs": [
    {
     "name": "stdout",
     "output_type": "stream",
     "text": [
      "{'C': 1000.0}\n",
      "             precision    recall  f1-score   support\n",
      "\n",
      "          0       0.75      0.17      0.28      1250\n",
      "          1       0.53      0.94      0.68      1250\n",
      "\n",
      "avg / total       0.64      0.56      0.48      2500\n",
      "\n"
     ]
    }
   ],
   "source": [
    "from sklearn.linear_model import LogisticRegression\n",
    "from sklearn.model_selection import GridSearchCV\n",
    "from sklearn.metrics import classification_report\n",
    "# TODO： 利用逻辑回归来训练模型\n",
    "#       1. 评估方式： F1-score\n",
    "#       2. 超参数（hyperparater）的选择利用grid search https://scikit-learn.org/stable/modules/generated/sklearn.model_selection.GridSearchCV.html\n",
    "#       3. 打印出在测试数据中的最好的结果（precision, recall, f1-score, 需要分别打印出正负样本，以及综合的）\n",
    "#       请注意：做交叉验证时绝对不能用测试数据。 测试数据只能用来最后的”一次性“检验。\n",
    "#       逻辑回归的使用方法请参考：http://scikit-learn.org/stable/modules/generated/sklearn.linear_model.LogisticRegression.html\n",
    "#       对于逻辑回归，经常调整的超参数为： C\n",
    " \n",
    "parameters = { 'C':np.logspace(-3,3,7)}\n",
    "lr = LogisticRegression()\n",
    "clf = GridSearchCV(lr, parameters, cv=5)\n",
    "clf.fit(X_train, y_train)\n",
    "print(clf.best_params_)\n",
    "y_predict = clf.predict(X_test)\n",
    "print(classification_report(y_test, y_predict))\n"
   ]
  },
  {
   "cell_type": "code",
   "execution_count": 12,
   "metadata": {},
   "outputs": [
    {
     "name": "stdout",
     "output_type": "stream",
     "text": [
      "{'C': 10.0, 'kernel': 'linear'}\n",
      "             precision    recall  f1-score   support\n",
      "\n",
      "          0       0.77      0.17      0.28      1250\n",
      "          1       0.53      0.95      0.68      1250\n",
      "\n",
      "avg / total       0.65      0.56      0.48      2500\n",
      "\n"
     ]
    }
   ],
   "source": [
    "from sklearn import svm\n",
    "# TODO： 利用SVM来训练模型\n",
    "#       1. 评估方式： F1-score\n",
    "#       2. 超参数（hyperparater）的选择利用grid search https://scikit-learn.org/stable/modules/generated/sklearn.model_selection.GridSearchCV.html\n",
    "#       3. 打印出在测试数据中的最好的结果（precision, recall, f1-score, 需要分别打印出正负样本，以及综合的）\n",
    "#       请注意：做交叉验证时绝对不能用测试数据。 测试数据只能用来最后的”一次性“检验。\n",
    "#       SVM的使用方法请参考：http://scikit-learn.org/stable/modules/generated/sklearn.svm.SVC.html\n",
    "#       对于SVM模型，经常调整的超参数为：C, gamma, kernel\n",
    "\n",
    "parameters = {'kernel':('linear', 'rbf', 'poly', 'sigmoid'), 'C':np.logspace(-3,3,7)}\n",
    "svc = svm.SVC()\n",
    "clf = GridSearchCV(svc, parameters, cv=5)\n",
    "clf.fit(X_train, y_train)\n",
    "print(clf.best_params_)\n",
    "y_predict = clf.predict(X_test)\n",
    "print(classification_report(y_test, y_predict))"
   ]
  },
  {
   "cell_type": "markdown",
   "metadata": {},
   "source": [
    "对于超参数的调整，我们经常使用gridsearch，这也是工业界最常用的方法，但它的缺点是需要大量的计算，所以近年来这方面的研究也成为了重点。 其中一个比较经典的成果为Bayesian Optimization（利用贝叶斯的思路去寻找最好的超参数）。Ryan P. Adams主导的Bayesian Optimization利用高斯过程作为后验概率（posteior distribution）来寻找最优解。 https://papers.nips.cc/paper/4522-practical-bayesian-optimization-of-machine-learning-algorithms.pdf 在下面的练习中，我们尝试使用Bayesian Optimization工具来去寻找最优的超参数。参考工具：https://github.com/fmfn/BayesianOptimization"
   ]
  },
  {
   "cell_type": "code",
   "execution_count": 135,
   "metadata": {
    "collapsed": true
   },
   "outputs": [],
   "source": [
    "# TODO: 仍然使用SVM模型，但在这里使用Bayesian Optimization来寻找最好的超参数。 \n",
    "#       1. 评估方式： F1-score\n",
    "#       2. 超参数（hyperparater）的选择利用Bayesian Optimization https://scikit-learn.org/stable/modules/generated/sklearn.model_selection.GridSearchCV.html\n",
    "#       3. 打印出在测试数据中的最好的结果（precision, recall, f1-score, 需要分别打印出正负样本，以及综合的）\n",
    "#       请注意：做交叉验证时绝对不能用测试数据。 测试数据只能用来最后的”一次性“检验。\n",
    "#       SVM的使用方法请参考：http://scikit-learn.org/stable/modules/generated/sklearn.svm.SVC.html\n",
    "#       对于SVM模型，经常调整的超参数为：C, gamma, kernel\n",
    "#       参考Bayesian Optimization开源工具： https://github.com/fmfn/BayesianOptimization\n",
    "\n",
    "\n",
    "from sklearn.cross_validation import cross_val_score\n",
    "from bayes_opt import BayesianOptimization\n",
    "from sklearn.svm import SVC"
   ]
  },
  {
   "cell_type": "code",
   "execution_count": 136,
   "metadata": {
    "collapsed": true
   },
   "outputs": [],
   "source": [
    "def svm_cv(C, gamma):\n",
    "    svm = SVC(C=10 ** C, gamma=10 ** gamma,random_state=1)\n",
    "    val = cross_val_score(svm,X_train, y_train, cv=5).mean()\n",
    "    return val"
   ]
  },
  {
   "cell_type": "code",
   "execution_count": 137,
   "metadata": {
    "collapsed": true
   },
   "outputs": [],
   "source": [
    "pbounds = {'C':(0,1),'gamma':(2,20)}\n",
    "svm_bo = BayesianOptimization(svm_cv,pbounds=pbounds)"
   ]
  },
  {
   "cell_type": "code",
   "execution_count": 138,
   "metadata": {},
   "outputs": [
    {
     "name": "stdout",
     "output_type": "stream",
     "text": [
      "|   iter    |  target   |     C     |   gamma   |\n",
      "-------------------------------------------------\n",
      "| \u001b[0m 1       \u001b[0m | \u001b[0m 0.6196  \u001b[0m | \u001b[0m 0.5383  \u001b[0m | \u001b[0m 17.17   \u001b[0m |\n",
      "| \u001b[0m 2       \u001b[0m | \u001b[0m 0.6196  \u001b[0m | \u001b[0m 0.03277 \u001b[0m | \u001b[0m 11.02   \u001b[0m |\n",
      "| \u001b[0m 3       \u001b[0m | \u001b[0m 0.6196  \u001b[0m | \u001b[0m 0.391   \u001b[0m | \u001b[0m 18.42   \u001b[0m |\n",
      "| \u001b[0m 4       \u001b[0m | \u001b[0m 0.6196  \u001b[0m | \u001b[0m 0.6569  \u001b[0m | \u001b[0m 7.471   \u001b[0m |\n",
      "| \u001b[0m 5       \u001b[0m | \u001b[0m 0.6196  \u001b[0m | \u001b[0m 0.814   \u001b[0m | \u001b[0m 12.38   \u001b[0m |\n",
      "| \u001b[0m 6       \u001b[0m | \u001b[0m 0.6196  \u001b[0m | \u001b[0m 0.01734 \u001b[0m | \u001b[0m 2.001   \u001b[0m |\n",
      "| \u001b[0m 7       \u001b[0m | \u001b[0m 0.6196  \u001b[0m | \u001b[0m 0.2771  \u001b[0m | \u001b[0m 2.024   \u001b[0m |\n",
      "| \u001b[0m 8       \u001b[0m | \u001b[0m 0.6196  \u001b[0m | \u001b[0m 0.5181  \u001b[0m | \u001b[0m 19.96   \u001b[0m |\n",
      "| \u001b[0m 9       \u001b[0m | \u001b[0m 0.6196  \u001b[0m | \u001b[0m 0.5492  \u001b[0m | \u001b[0m 2.058   \u001b[0m |\n",
      "| \u001b[0m 10      \u001b[0m | \u001b[0m 0.6196  \u001b[0m | \u001b[0m 0.7518  \u001b[0m | \u001b[0m 19.91   \u001b[0m |\n",
      "| \u001b[0m 11      \u001b[0m | \u001b[0m 0.6196  \u001b[0m | \u001b[0m 0.05667 \u001b[0m | \u001b[0m 2.061   \u001b[0m |\n",
      "| \u001b[0m 12      \u001b[0m | \u001b[0m 0.6196  \u001b[0m | \u001b[0m 0.313   \u001b[0m | \u001b[0m 19.9    \u001b[0m |\n",
      "| \u001b[0m 13      \u001b[0m | \u001b[0m 0.6196  \u001b[0m | \u001b[0m 0.07876 \u001b[0m | \u001b[0m 2.006   \u001b[0m |\n",
      "| \u001b[0m 14      \u001b[0m | \u001b[0m 0.6196  \u001b[0m | \u001b[0m 0.2191  \u001b[0m | \u001b[0m 19.99   \u001b[0m |\n",
      "| \u001b[0m 15      \u001b[0m | \u001b[0m 0.6196  \u001b[0m | \u001b[0m 0.6871  \u001b[0m | \u001b[0m 2.068   \u001b[0m |\n",
      "| \u001b[0m 16      \u001b[0m | \u001b[0m 0.6196  \u001b[0m | \u001b[0m 0.2401  \u001b[0m | \u001b[0m 19.93   \u001b[0m |\n",
      "| \u001b[0m 17      \u001b[0m | \u001b[0m 0.6196  \u001b[0m | \u001b[0m 0.4216  \u001b[0m | \u001b[0m 2.095   \u001b[0m |\n",
      "| \u001b[0m 18      \u001b[0m | \u001b[0m 0.6196  \u001b[0m | \u001b[0m 0.3158  \u001b[0m | \u001b[0m 19.84   \u001b[0m |\n",
      "| \u001b[0m 19      \u001b[0m | \u001b[0m 0.6196  \u001b[0m | \u001b[0m 0.3842  \u001b[0m | \u001b[0m 2.057   \u001b[0m |\n",
      "| \u001b[0m 20      \u001b[0m | \u001b[0m 0.6196  \u001b[0m | \u001b[0m 0.111   \u001b[0m | \u001b[0m 19.91   \u001b[0m |\n",
      "| \u001b[0m 21      \u001b[0m | \u001b[0m 0.6196  \u001b[0m | \u001b[0m 0.2597  \u001b[0m | \u001b[0m 2.063   \u001b[0m |\n",
      "| \u001b[0m 22      \u001b[0m | \u001b[0m 0.6196  \u001b[0m | \u001b[0m 0.1796  \u001b[0m | \u001b[0m 19.85   \u001b[0m |\n",
      "| \u001b[0m 23      \u001b[0m | \u001b[0m 0.6196  \u001b[0m | \u001b[0m 0.1496  \u001b[0m | \u001b[0m 2.061   \u001b[0m |\n",
      "| \u001b[0m 24      \u001b[0m | \u001b[0m 0.6196  \u001b[0m | \u001b[0m 0.6526  \u001b[0m | \u001b[0m 19.93   \u001b[0m |\n",
      "| \u001b[0m 25      \u001b[0m | \u001b[0m 0.6196  \u001b[0m | \u001b[0m 0.03424 \u001b[0m | \u001b[0m 2.001   \u001b[0m |\n",
      "| \u001b[0m 26      \u001b[0m | \u001b[0m 0.6196  \u001b[0m | \u001b[0m 0.6447  \u001b[0m | \u001b[0m 19.99   \u001b[0m |\n",
      "| \u001b[0m 27      \u001b[0m | \u001b[0m 0.6196  \u001b[0m | \u001b[0m 0.08439 \u001b[0m | \u001b[0m 2.045   \u001b[0m |\n",
      "| \u001b[0m 28      \u001b[0m | \u001b[0m 0.6196  \u001b[0m | \u001b[0m 0.94    \u001b[0m | \u001b[0m 19.96   \u001b[0m |\n",
      "| \u001b[0m 29      \u001b[0m | \u001b[0m 0.6196  \u001b[0m | \u001b[0m 0.818   \u001b[0m | \u001b[0m 2.086   \u001b[0m |\n",
      "| \u001b[0m 30      \u001b[0m | \u001b[0m 0.6196  \u001b[0m | \u001b[0m 0.4185  \u001b[0m | \u001b[0m 19.94   \u001b[0m |\n",
      "=================================================\n"
     ]
    }
   ],
   "source": [
    "svm_bo.maximize()\n"
   ]
  },
  {
   "cell_type": "code",
   "execution_count": null,
   "metadata": {
    "collapsed": true
   },
   "outputs": [],
   "source": []
  }
 ],
 "metadata": {
  "kernelspec": {
   "display_name": "Python 3",
   "language": "python",
   "name": "python3"
  },
  "language_info": {
   "codemirror_mode": {
    "name": "ipython",
    "version": 3
   },
   "file_extension": ".py",
   "mimetype": "text/x-python",
   "name": "python",
   "nbconvert_exporter": "python",
   "pygments_lexer": "ipython3",
   "version": "3.6.1"
  }
 },
 "nbformat": 4,
 "nbformat_minor": 2
}
